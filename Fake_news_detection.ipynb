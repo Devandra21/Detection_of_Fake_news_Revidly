{
 "cells": [
  {
   "cell_type": "code",
   "execution_count": 1,
   "metadata": {},
   "outputs": [],
   "source": [
    "import pandas as pd\n",
    "import numpy as np\n",
    "from sklearn.feature_extraction.text import CountVectorizer, TfidfVectorizer, HashingVectorizer\n",
    "from sklearn.model_selection import train_test_split\n",
    "from sklearn.linear_model import LogisticRegression\n",
    "from sklearn.metrics import accuracy_score\n",
    "from sklearn.naive_bayes import MultinomialNB\n",
    "from sklearn.linear_model import PassiveAggressiveClassifier, SGDClassifier\n",
    "from sklearn.svm import LinearSVC\n",
    "from sklearn import tree\n",
    "from sklearn.ensemble import RandomForestClassifier\n",
    "from sklearn.ensemble import GradientBoostingClassifier\n",
    "from sklearn.ensemble import AdaBoostClassifier\n",
    "from sklearn.ensemble import BaggingClassifier"
   ]
  },
  {
   "cell_type": "code",
   "execution_count": 2,
   "metadata": {},
   "outputs": [],
   "source": [
    "df = pd.read_csv('news.csv')"
   ]
  },
  {
   "cell_type": "code",
   "execution_count": 3,
   "metadata": {},
   "outputs": [],
   "source": [
    "df = df.set_index('Unnamed: 0')"
   ]
  },
  {
   "cell_type": "code",
   "execution_count": 4,
   "metadata": {},
   "outputs": [
    {
     "data": {
      "text/html": [
       "<div>\n",
       "<style scoped>\n",
       "    .dataframe tbody tr th:only-of-type {\n",
       "        vertical-align: middle;\n",
       "    }\n",
       "\n",
       "    .dataframe tbody tr th {\n",
       "        vertical-align: top;\n",
       "    }\n",
       "\n",
       "    .dataframe thead th {\n",
       "        text-align: right;\n",
       "    }\n",
       "</style>\n",
       "<table border=\"1\" class=\"dataframe\">\n",
       "  <thead>\n",
       "    <tr style=\"text-align: right;\">\n",
       "      <th></th>\n",
       "      <th>title</th>\n",
       "      <th>text</th>\n",
       "      <th>label</th>\n",
       "    </tr>\n",
       "    <tr>\n",
       "      <th>Unnamed: 0</th>\n",
       "      <th></th>\n",
       "      <th></th>\n",
       "      <th></th>\n",
       "    </tr>\n",
       "  </thead>\n",
       "  <tbody>\n",
       "    <tr>\n",
       "      <th>8476</th>\n",
       "      <td>You Can Smell Hillary’s Fear</td>\n",
       "      <td>Daniel Greenfield, a Shillman Journalism Fello...</td>\n",
       "      <td>FAKE</td>\n",
       "    </tr>\n",
       "    <tr>\n",
       "      <th>10294</th>\n",
       "      <td>Watch The Exact Moment Paul Ryan Committed Pol...</td>\n",
       "      <td>Google Pinterest Digg Linkedin Reddit Stumbleu...</td>\n",
       "      <td>FAKE</td>\n",
       "    </tr>\n",
       "    <tr>\n",
       "      <th>3608</th>\n",
       "      <td>Kerry to go to Paris in gesture of sympathy</td>\n",
       "      <td>U.S. Secretary of State John F. Kerry said Mon...</td>\n",
       "      <td>REAL</td>\n",
       "    </tr>\n",
       "    <tr>\n",
       "      <th>10142</th>\n",
       "      <td>Bernie supporters on Twitter erupt in anger ag...</td>\n",
       "      <td>— Kaydee King (@KaydeeKing) November 9, 2016 T...</td>\n",
       "      <td>FAKE</td>\n",
       "    </tr>\n",
       "    <tr>\n",
       "      <th>875</th>\n",
       "      <td>The Battle of New York: Why This Primary Matters</td>\n",
       "      <td>It's primary day in New York and front-runners...</td>\n",
       "      <td>REAL</td>\n",
       "    </tr>\n",
       "    <tr>\n",
       "      <th>...</th>\n",
       "      <td>...</td>\n",
       "      <td>...</td>\n",
       "      <td>...</td>\n",
       "    </tr>\n",
       "    <tr>\n",
       "      <th>4490</th>\n",
       "      <td>State Department says it can't find emails fro...</td>\n",
       "      <td>The State Department told the Republican Natio...</td>\n",
       "      <td>REAL</td>\n",
       "    </tr>\n",
       "    <tr>\n",
       "      <th>8062</th>\n",
       "      <td>The ‘P’ in PBS Should Stand for ‘Plutocratic’ ...</td>\n",
       "      <td>The ‘P’ in PBS Should Stand for ‘Plutocratic’ ...</td>\n",
       "      <td>FAKE</td>\n",
       "    </tr>\n",
       "    <tr>\n",
       "      <th>8622</th>\n",
       "      <td>Anti-Trump Protesters Are Tools of the Oligarc...</td>\n",
       "      <td>Anti-Trump Protesters Are Tools of the Oligar...</td>\n",
       "      <td>FAKE</td>\n",
       "    </tr>\n",
       "    <tr>\n",
       "      <th>4021</th>\n",
       "      <td>In Ethiopia, Obama seeks progress on peace, se...</td>\n",
       "      <td>ADDIS ABABA, Ethiopia —President Obama convene...</td>\n",
       "      <td>REAL</td>\n",
       "    </tr>\n",
       "    <tr>\n",
       "      <th>4330</th>\n",
       "      <td>Jeb Bush Is Suddenly Attacking Trump. Here's W...</td>\n",
       "      <td>Jeb Bush Is Suddenly Attacking Trump. Here's W...</td>\n",
       "      <td>REAL</td>\n",
       "    </tr>\n",
       "  </tbody>\n",
       "</table>\n",
       "<p>6335 rows × 3 columns</p>\n",
       "</div>"
      ],
      "text/plain": [
       "                                                        title  \\\n",
       "Unnamed: 0                                                      \n",
       "8476                             You Can Smell Hillary’s Fear   \n",
       "10294       Watch The Exact Moment Paul Ryan Committed Pol...   \n",
       "3608              Kerry to go to Paris in gesture of sympathy   \n",
       "10142       Bernie supporters on Twitter erupt in anger ag...   \n",
       "875          The Battle of New York: Why This Primary Matters   \n",
       "...                                                       ...   \n",
       "4490        State Department says it can't find emails fro...   \n",
       "8062        The ‘P’ in PBS Should Stand for ‘Plutocratic’ ...   \n",
       "8622        Anti-Trump Protesters Are Tools of the Oligarc...   \n",
       "4021        In Ethiopia, Obama seeks progress on peace, se...   \n",
       "4330        Jeb Bush Is Suddenly Attacking Trump. Here's W...   \n",
       "\n",
       "                                                         text label  \n",
       "Unnamed: 0                                                           \n",
       "8476        Daniel Greenfield, a Shillman Journalism Fello...  FAKE  \n",
       "10294       Google Pinterest Digg Linkedin Reddit Stumbleu...  FAKE  \n",
       "3608        U.S. Secretary of State John F. Kerry said Mon...  REAL  \n",
       "10142       — Kaydee King (@KaydeeKing) November 9, 2016 T...  FAKE  \n",
       "875         It's primary day in New York and front-runners...  REAL  \n",
       "...                                                       ...   ...  \n",
       "4490        The State Department told the Republican Natio...  REAL  \n",
       "8062        The ‘P’ in PBS Should Stand for ‘Plutocratic’ ...  FAKE  \n",
       "8622         Anti-Trump Protesters Are Tools of the Oligar...  FAKE  \n",
       "4021        ADDIS ABABA, Ethiopia —President Obama convene...  REAL  \n",
       "4330        Jeb Bush Is Suddenly Attacking Trump. Here's W...  REAL  \n",
       "\n",
       "[6335 rows x 3 columns]"
      ]
     },
     "execution_count": 4,
     "metadata": {},
     "output_type": "execute_result"
    }
   ],
   "source": [
    "df"
   ]
  },
  {
   "cell_type": "code",
   "execution_count": 5,
   "metadata": {},
   "outputs": [],
   "source": [
    "df[\"label\"].replace({\"FAKE\": -1, \"REAL\": 1}, inplace=True)"
   ]
  },
  {
   "cell_type": "code",
   "execution_count": 6,
   "metadata": {},
   "outputs": [
    {
     "data": {
      "text/html": [
       "<div>\n",
       "<style scoped>\n",
       "    .dataframe tbody tr th:only-of-type {\n",
       "        vertical-align: middle;\n",
       "    }\n",
       "\n",
       "    .dataframe tbody tr th {\n",
       "        vertical-align: top;\n",
       "    }\n",
       "\n",
       "    .dataframe thead th {\n",
       "        text-align: right;\n",
       "    }\n",
       "</style>\n",
       "<table border=\"1\" class=\"dataframe\">\n",
       "  <thead>\n",
       "    <tr style=\"text-align: right;\">\n",
       "      <th></th>\n",
       "      <th>title</th>\n",
       "      <th>text</th>\n",
       "      <th>label</th>\n",
       "    </tr>\n",
       "    <tr>\n",
       "      <th>Unnamed: 0</th>\n",
       "      <th></th>\n",
       "      <th></th>\n",
       "      <th></th>\n",
       "    </tr>\n",
       "  </thead>\n",
       "  <tbody>\n",
       "    <tr>\n",
       "      <th>8476</th>\n",
       "      <td>You Can Smell Hillary’s Fear</td>\n",
       "      <td>Daniel Greenfield, a Shillman Journalism Fello...</td>\n",
       "      <td>-1</td>\n",
       "    </tr>\n",
       "    <tr>\n",
       "      <th>10294</th>\n",
       "      <td>Watch The Exact Moment Paul Ryan Committed Pol...</td>\n",
       "      <td>Google Pinterest Digg Linkedin Reddit Stumbleu...</td>\n",
       "      <td>-1</td>\n",
       "    </tr>\n",
       "    <tr>\n",
       "      <th>3608</th>\n",
       "      <td>Kerry to go to Paris in gesture of sympathy</td>\n",
       "      <td>U.S. Secretary of State John F. Kerry said Mon...</td>\n",
       "      <td>1</td>\n",
       "    </tr>\n",
       "    <tr>\n",
       "      <th>10142</th>\n",
       "      <td>Bernie supporters on Twitter erupt in anger ag...</td>\n",
       "      <td>— Kaydee King (@KaydeeKing) November 9, 2016 T...</td>\n",
       "      <td>-1</td>\n",
       "    </tr>\n",
       "    <tr>\n",
       "      <th>875</th>\n",
       "      <td>The Battle of New York: Why This Primary Matters</td>\n",
       "      <td>It's primary day in New York and front-runners...</td>\n",
       "      <td>1</td>\n",
       "    </tr>\n",
       "    <tr>\n",
       "      <th>...</th>\n",
       "      <td>...</td>\n",
       "      <td>...</td>\n",
       "      <td>...</td>\n",
       "    </tr>\n",
       "    <tr>\n",
       "      <th>4490</th>\n",
       "      <td>State Department says it can't find emails fro...</td>\n",
       "      <td>The State Department told the Republican Natio...</td>\n",
       "      <td>1</td>\n",
       "    </tr>\n",
       "    <tr>\n",
       "      <th>8062</th>\n",
       "      <td>The ‘P’ in PBS Should Stand for ‘Plutocratic’ ...</td>\n",
       "      <td>The ‘P’ in PBS Should Stand for ‘Plutocratic’ ...</td>\n",
       "      <td>-1</td>\n",
       "    </tr>\n",
       "    <tr>\n",
       "      <th>8622</th>\n",
       "      <td>Anti-Trump Protesters Are Tools of the Oligarc...</td>\n",
       "      <td>Anti-Trump Protesters Are Tools of the Oligar...</td>\n",
       "      <td>-1</td>\n",
       "    </tr>\n",
       "    <tr>\n",
       "      <th>4021</th>\n",
       "      <td>In Ethiopia, Obama seeks progress on peace, se...</td>\n",
       "      <td>ADDIS ABABA, Ethiopia —President Obama convene...</td>\n",
       "      <td>1</td>\n",
       "    </tr>\n",
       "    <tr>\n",
       "      <th>4330</th>\n",
       "      <td>Jeb Bush Is Suddenly Attacking Trump. Here's W...</td>\n",
       "      <td>Jeb Bush Is Suddenly Attacking Trump. Here's W...</td>\n",
       "      <td>1</td>\n",
       "    </tr>\n",
       "  </tbody>\n",
       "</table>\n",
       "<p>6335 rows × 3 columns</p>\n",
       "</div>"
      ],
      "text/plain": [
       "                                                        title  \\\n",
       "Unnamed: 0                                                      \n",
       "8476                             You Can Smell Hillary’s Fear   \n",
       "10294       Watch The Exact Moment Paul Ryan Committed Pol...   \n",
       "3608              Kerry to go to Paris in gesture of sympathy   \n",
       "10142       Bernie supporters on Twitter erupt in anger ag...   \n",
       "875          The Battle of New York: Why This Primary Matters   \n",
       "...                                                       ...   \n",
       "4490        State Department says it can't find emails fro...   \n",
       "8062        The ‘P’ in PBS Should Stand for ‘Plutocratic’ ...   \n",
       "8622        Anti-Trump Protesters Are Tools of the Oligarc...   \n",
       "4021        In Ethiopia, Obama seeks progress on peace, se...   \n",
       "4330        Jeb Bush Is Suddenly Attacking Trump. Here's W...   \n",
       "\n",
       "                                                         text  label  \n",
       "Unnamed: 0                                                            \n",
       "8476        Daniel Greenfield, a Shillman Journalism Fello...     -1  \n",
       "10294       Google Pinterest Digg Linkedin Reddit Stumbleu...     -1  \n",
       "3608        U.S. Secretary of State John F. Kerry said Mon...      1  \n",
       "10142       — Kaydee King (@KaydeeKing) November 9, 2016 T...     -1  \n",
       "875         It's primary day in New York and front-runners...      1  \n",
       "...                                                       ...    ...  \n",
       "4490        The State Department told the Republican Natio...      1  \n",
       "8062        The ‘P’ in PBS Should Stand for ‘Plutocratic’ ...     -1  \n",
       "8622         Anti-Trump Protesters Are Tools of the Oligar...     -1  \n",
       "4021        ADDIS ABABA, Ethiopia —President Obama convene...      1  \n",
       "4330        Jeb Bush Is Suddenly Attacking Trump. Here's W...      1  \n",
       "\n",
       "[6335 rows x 3 columns]"
      ]
     },
     "execution_count": 6,
     "metadata": {},
     "output_type": "execute_result"
    }
   ],
   "source": [
    "df"
   ]
  },
  {
   "cell_type": "code",
   "execution_count": 7,
   "metadata": {},
   "outputs": [],
   "source": [
    "y = df.label"
   ]
  },
  {
   "cell_type": "code",
   "execution_count": 8,
   "metadata": {},
   "outputs": [
    {
     "data": {
      "text/plain": [
       "Unnamed: 0\n",
       "8476    -1\n",
       "10294   -1\n",
       "3608     1\n",
       "10142   -1\n",
       "875      1\n",
       "        ..\n",
       "4490     1\n",
       "8062    -1\n",
       "8622    -1\n",
       "4021     1\n",
       "4330     1\n",
       "Name: label, Length: 6335, dtype: int64"
      ]
     },
     "execution_count": 8,
     "metadata": {},
     "output_type": "execute_result"
    }
   ],
   "source": [
    "y"
   ]
  },
  {
   "cell_type": "code",
   "execution_count": 9,
   "metadata": {},
   "outputs": [],
   "source": [
    "df = df.drop('label', axis=1)"
   ]
  },
  {
   "cell_type": "code",
   "execution_count": 10,
   "metadata": {},
   "outputs": [],
   "source": [
    "X_train, X_test, y_train, y_test = train_test_split(df['text'], y, test_size=0.22, random_state=43)"
   ]
  },
  {
   "cell_type": "code",
   "execution_count": 11,
   "metadata": {},
   "outputs": [
    {
     "data": {
      "text/plain": [
       "Unnamed: 0\n",
       "10269   -1\n",
       "4977     1\n",
       "10101   -1\n",
       "7094    -1\n",
       "3551     1\n",
       "        ..\n",
       "1360     1\n",
       "1715     1\n",
       "10440   -1\n",
       "317      1\n",
       "5989    -1\n",
       "Name: label, Length: 1394, dtype: int64"
      ]
     },
     "execution_count": 11,
     "metadata": {},
     "output_type": "execute_result"
    }
   ],
   "source": [
    "y_test"
   ]
  },
  {
   "cell_type": "code",
   "execution_count": 12,
   "metadata": {},
   "outputs": [],
   "source": [
    "#count vectorizer set\n",
    "count_vectorizer = CountVectorizer(stop_words='english')\n",
    "count_train = count_vectorizer.fit_transform(X_train)\n",
    "count_test = count_vectorizer.transform(X_test)"
   ]
  },
  {
   "cell_type": "code",
   "execution_count": 13,
   "metadata": {},
   "outputs": [],
   "source": [
    "#tdidf set\n",
    "tfidf_vectorizer = TfidfVectorizer(stop_words='english', max_df=0.73)\n",
    "tfidf_train = tfidf_vectorizer.fit_transform(X_train)\n",
    "tfidf_test = tfidf_vectorizer.transform(X_test)"
   ]
  },
  {
   "cell_type": "code",
   "execution_count": 14,
   "metadata": {},
   "outputs": [],
   "source": [
    "#hashing set\n",
    "hash_vectorizer = HashingVectorizer(stop_words='english', alternate_sign=False)\n",
    "hash_train = hash_vectorizer.fit_transform(X_train)\n",
    "hash_test = hash_vectorizer.transform(X_test)"
   ]
  },
  {
   "cell_type": "code",
   "execution_count": 15,
   "metadata": {},
   "outputs": [
    {
     "name": "stdout",
     "output_type": "stream",
     "text": [
      "accuracy:   0.920\n"
     ]
    },
    {
     "name": "stderr",
     "output_type": "stream",
     "text": [
      "C:\\ProgramData\\Anaconda3\\lib\\site-packages\\sklearn\\linear_model\\_logistic.py:940: ConvergenceWarning: lbfgs failed to converge (status=1):\n",
      "STOP: TOTAL NO. of ITERATIONS REACHED LIMIT.\n",
      "\n",
      "Increase the number of iterations (max_iter) or scale the data as shown in:\n",
      "    https://scikit-learn.org/stable/modules/preprocessing.html\n",
      "Please also refer to the documentation for alternative solver options:\n",
      "    https://scikit-learn.org/stable/modules/linear_model.html#logistic-regression\n",
      "  extra_warning_msg=_LOGISTIC_SOLVER_CONVERGENCE_MSG)\n"
     ]
    }
   ],
   "source": [
    "#logistic with countvectorizer\n",
    "clf = LogisticRegression()\n",
    "clf.fit(count_train,y_train)\n",
    "pred_test = clf.predict(count_test)\n",
    "score_lg_cnt = accuracy_score(y_test, pred_test)\n",
    "print(\"accuracy:   %0.3f\" % score_lg_cnt)"
   ]
  },
  {
   "cell_type": "code",
   "execution_count": 16,
   "metadata": {},
   "outputs": [
    {
     "name": "stdout",
     "output_type": "stream",
     "text": [
      "accuracy:   0.918\n"
     ]
    }
   ],
   "source": [
    "#logistic with tfidfvectorizer\n",
    "tfidf_clf = LogisticRegression()\n",
    "tfidf_clf.fit(tfidf_train,y_train)\n",
    "tf_pred_test = tfidf_clf.predict(tfidf_test)\n",
    "score_lg_tf = accuracy_score(y_test, tf_pred_test)\n",
    "print(\"accuracy:   %0.3f\" % score_lg_tf)"
   ]
  },
  {
   "cell_type": "code",
   "execution_count": 17,
   "metadata": {},
   "outputs": [
    {
     "name": "stdout",
     "output_type": "stream",
     "text": [
      "accuracy:   0.917\n"
     ]
    }
   ],
   "source": [
    "#logistic with hash\n",
    "hash_clf = LogisticRegression()\n",
    "hash_clf.fit(hash_train,y_train)\n",
    "hash_pred_test = hash_clf.predict(hash_test)\n",
    "score_lg_hs = accuracy_score(y_test, hash_pred_test)\n",
    "print(\"accuracy:   %0.3f\" % score_lg_hs)"
   ]
  },
  {
   "cell_type": "code",
   "execution_count": 18,
   "metadata": {},
   "outputs": [
    {
     "name": "stdout",
     "output_type": "stream",
     "text": [
      "accuracy:   0.891\n"
     ]
    }
   ],
   "source": [
    "#multinomial with tdif\n",
    "mn_tfidf_clf = MultinomialNB(alpha=0.2)\n",
    "mn_tfidf_clf.fit(tfidf_train, y_train)\n",
    "mn_pred = mn_tfidf_clf.predict(tfidf_test)\n",
    "score_mlt_tf = accuracy_score(y_test, mn_pred)\n",
    "print(\"accuracy:   %0.3f\" % score_mlt_tf)"
   ]
  },
  {
   "cell_type": "code",
   "execution_count": 19,
   "metadata": {},
   "outputs": [
    {
     "name": "stdout",
     "output_type": "stream",
     "text": [
      "accuracy:   0.893\n"
     ]
    }
   ],
   "source": [
    "#multinomial with count\n",
    "mn_cnt_clf = MultinomialNB(alpha=0.2)\n",
    "mn_cnt_clf.fit(count_train, y_train)\n",
    "mn_cnt_pred = mn_cnt_clf.predict(count_test)\n",
    "score_mlt_cnt = accuracy_score(y_test, mn_cnt_pred)\n",
    "print(\"accuracy:   %0.3f\" % score_mlt_cnt)"
   ]
  },
  {
   "cell_type": "code",
   "execution_count": 20,
   "metadata": {},
   "outputs": [
    {
     "name": "stdout",
     "output_type": "stream",
     "text": [
      "accuracy:   0.839\n"
     ]
    }
   ],
   "source": [
    "#multinomial with hash\n",
    "mn_hash_clf = MultinomialNB(alpha=0.2)\n",
    "mn_hash_clf.fit(hash_train, y_train)\n",
    "mn_hash_pred = mn_hash_clf.predict(hash_test)\n",
    "score_mlt_hs = accuracy_score(y_test, mn_hash_pred)\n",
    "print(\"accuracy:   %0.3f\" % score_mlt_hs)"
   ]
  },
  {
   "cell_type": "code",
   "execution_count": 21,
   "metadata": {},
   "outputs": [
    {
     "name": "stdout",
     "output_type": "stream",
     "text": [
      "accuracy:   0.938\n"
     ]
    }
   ],
   "source": [
    "#passiveaggressiveclassifier with tdidf\n",
    "pa_tfidf_clf = PassiveAggressiveClassifier(max_iter=100)\n",
    "pa_tfidf_clf.fit(tfidf_train, y_train)\n",
    "pac_tf_pred = pa_tfidf_clf.predict(tfidf_test)\n",
    "score_pac_tf = accuracy_score(y_test, pac_tf_pred)\n",
    "print(\"accuracy:   %0.3f\" % score_pac_tf)"
   ]
  },
  {
   "cell_type": "code",
   "execution_count": 22,
   "metadata": {},
   "outputs": [
    {
     "name": "stdout",
     "output_type": "stream",
     "text": [
      "accuracy:   0.902\n"
     ]
    }
   ],
   "source": [
    "#passiveaggressiveclassifier with count\n",
    "pa_cnt_clf = PassiveAggressiveClassifier(max_iter=100)\n",
    "pa_cnt_clf.fit(count_train, y_train)\n",
    "pac_cnt_pred = pa_cnt_clf.predict(count_test)\n",
    "score_pac_cnt = accuracy_score(y_test, pac_cnt_pred)\n",
    "print(\"accuracy:   %0.3f\" % score_pac_cnt)"
   ]
  },
  {
   "cell_type": "code",
   "execution_count": 23,
   "metadata": {},
   "outputs": [
    {
     "name": "stdout",
     "output_type": "stream",
     "text": [
      "accuracy:   0.925\n"
     ]
    }
   ],
   "source": [
    "#passiveaggressiveclassifier with hash\n",
    "pa_hash_clf = PassiveAggressiveClassifier(max_iter=100)\n",
    "pa_hash_clf.fit(hash_train, y_train)\n",
    "pac_hash_pred = pa_hash_clf.predict(hash_test)\n",
    "score_pac_hs = accuracy_score(y_test, pac_hash_pred)\n",
    "print(\"accuracy:   %0.3f\" % score_pac_hs)"
   ]
  },
  {
   "cell_type": "code",
   "execution_count": 24,
   "metadata": {},
   "outputs": [
    {
     "name": "stdout",
     "output_type": "stream",
     "text": [
      "accuracy:   0.938\n"
     ]
    }
   ],
   "source": [
    "#sgdc witn tf\n",
    "sgd_tfidf_clf = SGDClassifier()\n",
    "sgd_tfidf_clf.fit(tfidf_train, y_train)\n",
    "pred_sgdc_tf = sgd_tfidf_clf.predict(tfidf_test)\n",
    "score_sgdc_tf = accuracy_score(y_test, pred_sgdc_tf)\n",
    "print(\"accuracy:   %0.3f\" % score_sgdc_tf)"
   ]
  },
  {
   "cell_type": "code",
   "execution_count": 25,
   "metadata": {},
   "outputs": [
    {
     "name": "stdout",
     "output_type": "stream",
     "text": [
      "accuracy:   0.912\n"
     ]
    }
   ],
   "source": [
    "#sgdc witn count\n",
    "sgd_cnt_clf = SGDClassifier()\n",
    "sgd_cnt_clf.fit(count_train, y_train)\n",
    "pred_sgdc_cnt = sgd_cnt_clf.predict(count_test)\n",
    "score_sgdc_cnt = accuracy_score(y_test, pred_sgdc_cnt)\n",
    "print(\"accuracy:   %0.3f\" % score_sgdc_cnt)"
   ]
  },
  {
   "cell_type": "code",
   "execution_count": 26,
   "metadata": {},
   "outputs": [
    {
     "name": "stdout",
     "output_type": "stream",
     "text": [
      "accuracy:   0.928\n"
     ]
    }
   ],
   "source": [
    "#sgdc witn hash\n",
    "sgd_hash_clf = SGDClassifier()\n",
    "sgd_hash_clf.fit(hash_train, y_train)\n",
    "pred_sgdc_hash = sgd_hash_clf.predict(hash_test)\n",
    "score_sgdc_hash = accuracy_score(y_test, pred_sgdc_hash)\n",
    "print(\"accuracy:   %0.3f\" % score_sgdc_hash)"
   ]
  },
  {
   "cell_type": "code",
   "execution_count": 27,
   "metadata": {},
   "outputs": [
    {
     "name": "stdout",
     "output_type": "stream",
     "text": [
      "accuracy:   0.939\n"
     ]
    }
   ],
   "source": [
    "#linearsvc with tfidf\n",
    "svc_tfidf_clf = LinearSVC()\n",
    "svc_tfidf_clf.fit(tfidf_train, y_train)\n",
    "pred_lsvc_tf = svc_tfidf_clf.predict(tfidf_test)\n",
    "score_lsvc_tf = accuracy_score(y_test, pred_lsvc_tf)\n",
    "print(\"accuracy:   %0.3f\" % score_lsvc_tf)"
   ]
  },
  {
   "cell_type": "code",
   "execution_count": 28,
   "metadata": {},
   "outputs": [
    {
     "name": "stdout",
     "output_type": "stream",
     "text": [
      "accuracy:   0.887\n"
     ]
    },
    {
     "name": "stderr",
     "output_type": "stream",
     "text": [
      "C:\\ProgramData\\Anaconda3\\lib\\site-packages\\sklearn\\svm\\_base.py:947: ConvergenceWarning: Liblinear failed to converge, increase the number of iterations.\n",
      "  \"the number of iterations.\", ConvergenceWarning)\n"
     ]
    }
   ],
   "source": [
    "#linearsvc with count\n",
    "svc_cnt_clf = LinearSVC()\n",
    "svc_cnt_clf.fit(count_train, y_train)\n",
    "pred_lsvc_cnt = svc_cnt_clf.predict(count_test)\n",
    "score_lsvc_cnt = accuracy_score(y_test, pred_lsvc_cnt)\n",
    "print(\"accuracy:   %0.3f\" % score_lsvc_cnt)"
   ]
  },
  {
   "cell_type": "code",
   "execution_count": 29,
   "metadata": {},
   "outputs": [
    {
     "name": "stdout",
     "output_type": "stream",
     "text": [
      "accuracy:   0.932\n"
     ]
    }
   ],
   "source": [
    "#linearsvc with hash\n",
    "svc_hash_clf = LinearSVC()\n",
    "svc_hash_clf.fit(hash_train, y_train)\n",
    "pred_lsvc_hash = svc_hash_clf.predict(hash_test)\n",
    "score_lsvc_hash = accuracy_score(y_test, pred_lsvc_hash)\n",
    "print(\"accuracy:   %0.3f\" % score_lsvc_hash)"
   ]
  },
  {
   "cell_type": "code",
   "execution_count": 30,
   "metadata": {},
   "outputs": [
    {
     "name": "stdout",
     "output_type": "stream",
     "text": [
      "accuracy:   0.823\n"
     ]
    }
   ],
   "source": [
    "#tree with tfidfvectorizer\n",
    "tree_tf_clf = tree.DecisionTreeClassifier()\n",
    "tree_tf_clf.fit(tfidf_train,y_train)\n",
    "tree_tf_pred = tree_tf_clf.predict(tfidf_test)\n",
    "score_tree_tf = accuracy_score(y_test, tree_tf_pred)\n",
    "print(\"accuracy:   %0.3f\" % score_tree_tf)"
   ]
  },
  {
   "cell_type": "code",
   "execution_count": 31,
   "metadata": {},
   "outputs": [
    {
     "name": "stdout",
     "output_type": "stream",
     "text": [
      "accuracy:   0.813\n"
     ]
    }
   ],
   "source": [
    "#tree with countvectorizer\n",
    "tree_count_clf = tree.DecisionTreeClassifier()\n",
    "tree_count_clf.fit(count_train,y_train)\n",
    "tree_count_pred = tree_count_clf.predict(count_test)\n",
    "score_tree_count = accuracy_score(y_test, tree_count_pred)\n",
    "print(\"accuracy:   %0.3f\" % score_tree_count)"
   ]
  },
  {
   "cell_type": "code",
   "execution_count": 32,
   "metadata": {},
   "outputs": [
    {
     "name": "stdout",
     "output_type": "stream",
     "text": [
      "accuracy:   0.812\n"
     ]
    }
   ],
   "source": [
    "#tree with hashvectorizer\n",
    "tree_hash_clf = tree.DecisionTreeClassifier()\n",
    "tree_hash_clf.fit(hash_train,y_train)\n",
    "tree_hash_pred = tree_hash_clf.predict(hash_test)\n",
    "score_tree_hash = accuracy_score(y_test, tree_hash_pred)\n",
    "print(\"accuracy:   %0.3f\" % score_tree_hash)"
   ]
  },
  {
   "cell_type": "code",
   "execution_count": 33,
   "metadata": {},
   "outputs": [
    {
     "name": "stdout",
     "output_type": "stream",
     "text": [
      "accuracy:   0.915\n"
     ]
    }
   ],
   "source": [
    "#forest with tf\n",
    "forest_tf_clf = RandomForestClassifier()\n",
    "forest_tf_clf.fit(tfidf_train,y_train)\n",
    "forest_tf_pred = forest_tf_clf.predict(tfidf_test)\n",
    "score_forest_tf = accuracy_score(y_test, forest_tf_pred)\n",
    "print(\"accuracy:   %0.3f\" % score_forest_tf)"
   ]
  },
  {
   "cell_type": "code",
   "execution_count": 34,
   "metadata": {},
   "outputs": [
    {
     "name": "stdout",
     "output_type": "stream",
     "text": [
      "accuracy:   0.905\n"
     ]
    }
   ],
   "source": [
    "#forest with countvectorizer\n",
    "forest_count_clf = RandomForestClassifier()\n",
    "forest_count_clf.fit(count_train,y_train)\n",
    "forest_count_pred = forest_count_clf.predict(count_test)\n",
    "score_forest_count = accuracy_score(y_test, forest_count_pred)\n",
    "print(\"accuracy:   %0.3f\" % score_forest_count)"
   ]
  },
  {
   "cell_type": "code",
   "execution_count": 35,
   "metadata": {},
   "outputs": [
    {
     "name": "stdout",
     "output_type": "stream",
     "text": [
      "accuracy:   0.892\n"
     ]
    }
   ],
   "source": [
    "#forest with hashvectorizer\n",
    "forest_hash_clf = RandomForestClassifier()\n",
    "forest_hash_clf.fit(hash_train,y_train)\n",
    "forest_hash_pred = forest_hash_clf.predict(hash_test)\n",
    "score_forest_hash = accuracy_score(y_test, forest_hash_pred)\n",
    "print(\"accuracy:   %0.3f\" % score_forest_hash)"
   ]
  },
  {
   "cell_type": "code",
   "execution_count": 36,
   "metadata": {},
   "outputs": [
    {
     "name": "stdout",
     "output_type": "stream",
     "text": [
      "accuracy:   0.900\n"
     ]
    }
   ],
   "source": [
    "#gbc with tfidfvectorizer\n",
    "gbc_tf_clf = GradientBoostingClassifier()\n",
    "gbc_tf_clf.fit(tfidf_train,y_train)\n",
    "gbc_tf_pred = gbc_tf_clf.predict(tfidf_test)\n",
    "score_gbc_tf = accuracy_score(y_test, gbc_tf_pred)\n",
    "print(\"accuracy:   %0.3f\" % score_gbc_tf)"
   ]
  },
  {
   "cell_type": "code",
   "execution_count": 37,
   "metadata": {},
   "outputs": [
    {
     "name": "stdout",
     "output_type": "stream",
     "text": [
      "accuracy:   0.900\n"
     ]
    }
   ],
   "source": [
    "#gbc with countvectorizer\n",
    "gbc_count_clf = GradientBoostingClassifier()\n",
    "gbc_count_clf.fit(count_train,y_train)\n",
    "gbc_count_pred = gbc_count_clf.predict(count_test)\n",
    "score_gbc_count = accuracy_score(y_test, gbc_count_pred)\n",
    "print(\"accuracy:   %0.3f\" % score_gbc_count)"
   ]
  },
  {
   "cell_type": "code",
   "execution_count": 38,
   "metadata": {},
   "outputs": [
    {
     "name": "stdout",
     "output_type": "stream",
     "text": [
      "accuracy:   0.901\n"
     ]
    }
   ],
   "source": [
    "#gbc with hashvectorizer\n",
    "gbc_hash_clf = GradientBoostingClassifier()\n",
    "gbc_hash_clf.fit(hash_train,y_train)\n",
    "gbc_hash_pred = gbc_hash_clf.predict(hash_test)\n",
    "score_gbc_hash = accuracy_score(y_test, gbc_hash_pred)\n",
    "print(\"accuracy:   %0.3f\" % score_gbc_hash)"
   ]
  },
  {
   "cell_type": "code",
   "execution_count": 39,
   "metadata": {},
   "outputs": [
    {
     "name": "stdout",
     "output_type": "stream",
     "text": [
      "accuracy:   0.874\n"
     ]
    }
   ],
   "source": [
    "#abc with tfidfvectorizer\n",
    "abc_tf_clf = AdaBoostClassifier()\n",
    "abc_tf_clf.fit(tfidf_train,y_train)\n",
    "abc_tf_pred = abc_tf_clf.predict(tfidf_test)\n",
    "score_abc_tf = accuracy_score(y_test, abc_tf_pred)\n",
    "print(\"accuracy:   %0.3f\" % score_abc_tf)"
   ]
  },
  {
   "cell_type": "code",
   "execution_count": 40,
   "metadata": {},
   "outputs": [
    {
     "name": "stdout",
     "output_type": "stream",
     "text": [
      "accuracy:   0.879\n"
     ]
    }
   ],
   "source": [
    "#abc with countvectorizer\n",
    "abc_count_clf = AdaBoostClassifier()\n",
    "abc_count_clf.fit(count_train,y_train)\n",
    "abc_count_pred = abc_count_clf.predict(count_test)\n",
    "score_abc_count = accuracy_score(y_test, abc_count_pred)\n",
    "print(\"accuracy:   %0.3f\" % score_abc_count)"
   ]
  },
  {
   "cell_type": "code",
   "execution_count": 41,
   "metadata": {},
   "outputs": [
    {
     "name": "stdout",
     "output_type": "stream",
     "text": [
      "accuracy:   0.876\n"
     ]
    }
   ],
   "source": [
    "#abc with hashvectorizer\n",
    "abc_hash_clf = AdaBoostClassifier()\n",
    "abc_hash_clf.fit(hash_train,y_train)\n",
    "abc_hash_pred = abc_hash_clf.predict(hash_test)\n",
    "score_abc_hash = accuracy_score(y_test, abc_hash_pred)\n",
    "print(\"accuracy:   %0.3f\" % score_abc_hash)"
   ]
  },
  {
   "cell_type": "code",
   "execution_count": 42,
   "metadata": {},
   "outputs": [
    {
     "name": "stdout",
     "output_type": "stream",
     "text": [
      "accuracy:   0.870\n"
     ]
    }
   ],
   "source": [
    "#bc with tfidfvectorizer\n",
    "bc_tf_clf = BaggingClassifier()\n",
    "bc_tf_clf.fit(tfidf_train,y_train)\n",
    "bc_tf_pred = bc_tf_clf.predict(tfidf_test)\n",
    "score_bc_tf = accuracy_score(y_test, bc_tf_pred)\n",
    "print(\"accuracy:   %0.3f\" % score_bc_tf)"
   ]
  },
  {
   "cell_type": "code",
   "execution_count": 43,
   "metadata": {},
   "outputs": [
    {
     "name": "stdout",
     "output_type": "stream",
     "text": [
      "accuracy:   0.875\n"
     ]
    }
   ],
   "source": [
    "#bc with countvectorizer\n",
    "bc_count_clf = BaggingClassifier()\n",
    "bc_count_clf.fit(count_train,y_train)\n",
    "bc_count_pred = bc_count_clf.predict(count_test)\n",
    "score_bc_count = accuracy_score(y_test, bc_count_pred)\n",
    "print(\"accuracy:   %0.3f\" % score_bc_count)"
   ]
  },
  {
   "cell_type": "code",
   "execution_count": 44,
   "metadata": {},
   "outputs": [
    {
     "name": "stdout",
     "output_type": "stream",
     "text": [
      "accuracy:   0.885\n"
     ]
    }
   ],
   "source": [
    "#bc with hashvectorizer\n",
    "bc_hash_clf = BaggingClassifier()\n",
    "bc_hash_clf.fit(hash_train,y_train)\n",
    "bc_hash_pred = bc_hash_clf.predict(hash_test)\n",
    "score_bc_hash = accuracy_score(y_test, bc_hash_pred)\n",
    "print(\"accuracy:   %0.3f\" % score_bc_hash)"
   ]
  },
  {
   "cell_type": "code",
   "execution_count": null,
   "metadata": {},
   "outputs": [],
   "source": []
  }
 ],
 "metadata": {
  "kernelspec": {
   "display_name": "Python 3",
   "language": "python",
   "name": "python3"
  },
  "language_info": {
   "codemirror_mode": {
    "name": "ipython",
    "version": 3
   },
   "file_extension": ".py",
   "mimetype": "text/x-python",
   "name": "python",
   "nbconvert_exporter": "python",
   "pygments_lexer": "ipython3",
   "version": "3.7.3"
  }
 },
 "nbformat": 4,
 "nbformat_minor": 4
}
